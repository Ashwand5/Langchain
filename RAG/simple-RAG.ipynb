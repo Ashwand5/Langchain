{
 "cells": [
  {
   "cell_type": "code",
   "execution_count": 17,
   "metadata": {},
   "outputs": [
    {
     "name": "stdout",
     "output_type": "stream",
     "text": [
      "[Document(metadata={'source': 'speech.txt'}, page_content='Here are some of Thanos\\'s most famous lines from the Marvel Cinematic Universe: \\n\"I am inevitable\": Thanos\\'s last words in Avengers: Endgame. \\n\"The hardest choices require the strongest will\": A famous line from Avengers: Infinity War. \\n\"I know what it\\'s like to lose. To feel so desperately that you\\'re right, yet to fail nonetheless\": A line from Avengers: Infinity War. \\n\"There are two more stones on Earth. Find them my children, bring them to me on Titan\": A line from Avengers: Infinity War. \\n\"And that is destiny\": A line from Avengers: Endgame where Thanos witnesses his 2019 self\\'s death during the time heist. \\n')]\n"
     ]
    }
   ],
   "source": [
    "from langchain_community.document_loaders import TextLoader\n",
    "loader=TextLoader('speech.txt')\n",
    "text_documents=loader.load()\n",
    "print(text_documents)"
   ]
  },
  {
   "cell_type": "markdown",
   "metadata": {},
   "source": [
    "# loading api key"
   ]
  },
  {
   "cell_type": "code",
   "execution_count": 18,
   "metadata": {},
   "outputs": [],
   "source": [
    "import os\n",
    "from dotenv import load_dotenv\n",
    "load_dotenv()\n",
    "\n",
    "os.environ['GOOGLE_API_KEY']=os.getenv('GOOGLE_API_KEY') "
   ]
  },
  {
   "cell_type": "markdown",
   "metadata": {},
   "source": [
    "# Loading the data "
   ]
  },
  {
   "cell_type": "code",
   "execution_count": 19,
   "metadata": {},
   "outputs": [],
   "source": [
    "# web based loader\n",
    "\n",
    "from langchain_community.document_loaders import WebBaseLoader\n",
    "import bs4\n",
    "\n",
    "## load,chunk and index the content of the html page\n",
    "\n",
    "loader=WebBaseLoader(web_paths=(\"https://lilianweng.github.io/posts/2023-06-23-agent/\",),\n",
    "                     bs_kwargs=dict(parse_only=bs4.SoupStrainer(\n",
    "                         class_=(\"post-title\",\"post_content\",\"post_header\")\n",
    "                     )))\n",
    "\n",
    "text_documents=loader.load()"
   ]
  },
  {
   "cell_type": "code",
   "execution_count": 20,
   "metadata": {},
   "outputs": [
    {
     "data": {
      "text/plain": [
       "[Document(metadata={'source': 'https://lilianweng.github.io/posts/2023-06-23-agent/'}, page_content='\\n      LLM Powered Autonomous Agents\\n    ')]"
      ]
     },
     "execution_count": 20,
     "metadata": {},
     "output_type": "execute_result"
    }
   ],
   "source": [
    "text_documents"
   ]
  },
  {
   "cell_type": "code",
   "execution_count": 21,
   "metadata": {},
   "outputs": [],
   "source": [
    "from langchain_community.document_loaders import PyPDFLoader\n",
    "loader=PyPDFLoader('my resume final.pdf')\n",
    "docs=loader.load()"
   ]
  },
  {
   "cell_type": "markdown",
   "metadata": {},
   "source": [
    "# Transform data"
   ]
  },
  {
   "cell_type": "code",
   "execution_count": 22,
   "metadata": {},
   "outputs": [
    {
     "data": {
      "text/plain": [
       "[Document(metadata={'source': 'my resume final.pdf', 'page': 0}, page_content='EDUCATION                                         ASHWAND  NARAYANAN S  \\nPhone: 9787385300  | Email : ashwandnarayanan.s2022ai -ds@sece.ac.in | GITHUB  | \\n         Sri Eshwar  College  of Engineering           B. TECH  (AI & DS )              CGPA : 7.85 (Up to 3rd  Semester)    \\n           Veveaham Hr Sec School                          HSC                   89.83%                                  \\nSt.Paul’s Matric School                              SSLC                                    81.00%                              \\n         \\nINTERNSHIP  \\n \\nDjango intern – RVTechlearn                                                                                                                                           2024  \\nSignificant contributions were made to the development of web platform, utilizing HTML, CSS, Django, and SQLite. I \\nworked on a on a Movie Recommendation System project, integrating machine learning algorithms to provide'),\n",
       " Document(metadata={'source': 'my resume final.pdf', 'page': 0}, page_content='worked on a on a Movie Recommendation System project, integrating machine learning algorithms to provide \\npersonalized movie suggestions to users.  \\nTech stack : HTML, CSS, Django, SQLite, ML  \\nAI & Robotics Intern – Intrino Robotics & Technologies Pvt Ltd                                                                                2024                                                                                                                      \\nI engaged in development of a ROS -based teleoperation and voice command system robot project, enabling efficient \\nremote control of robots. The system was tested in the Gazebo simulation environment to ensure optimal functionality and \\nperformance under various conditions.  \\nTech stack : ROS, Python,  ML \\n \\nChat with PDF - RAG project                                                                                                                                            2024'),\n",
       " Document(metadata={'source': 'my resume final.pdf', 'page': 0}, page_content='Chat with PDF - RAG project                                                                                                                                            2024  \\nThis project uses Gemini AI with a Retrieval -Augmented Generation (RAG) system to enable chat interactions with PDF \\ndocuments and answer user questions based on uploaded data. A Streamlit interface allows real -time document uploads \\nand chat.  \\n    Tech  stack:  Python, RAG, GeminiAPI.  \\nEmotion  analysis  using  text and audio                                                                                                                       2024  \\nThis project uses text and audio data for emotion analysis, applying a Naive Bayes classifier for text and an LSTM \\nneural network for audio. It includes a user interface for file uploads and displays results.  \\n    Tech  stack  ML, DL, HTML,  CSS, Django,  Python .'),\n",
       " Document(metadata={'source': 'my resume final.pdf', 'page': 0}, page_content='neural network for audio. It includes a user interface for file uploads and displays results.  \\n    Tech  stack  ML, DL, HTML,  CSS, Django,  Python . \\nSmart Bin and Map  Navigation                                                                                                                                    2023  \\nEngineered  the “Smart  Bin and Map  Navigation”  web app, a pioneering  solution  in waste  management.  Developed a  \\nsophisticated navigation system within the app to produce the shortest  path between bins  based on the fill level.   \\nTech  stack : HTML, CSS, JavaScript, Django, Python, IOT. \\nCERTIFICATIONS  \\n \\n   Certified in Flutter Introduction Workshop  – Let’s Upgrade                       Let’s  Upgrade  \\n   Certified  in Supervised Machine Learning                                                  Coursera  \\n   Certified in Crash Course on Python by Google                                          Coursera'),\n",
       " Document(metadata={'source': 'my resume final.pdf', 'page': 0}, page_content='Certified in Crash Course on Python by Google                                          Coursera  \\n   Certified in Problem Solving (Basic)                                                           HackerRank  \\n   Certified  in The Joy of Computing  Using  Python                                         NPTEL          2024  \\n        2024  \\n                                                              2023 \\n                                                              2023 \\n                                                              2023 \\n       ACHIEVEMENTS  \\n \\n            Leetcode : Problems  solved  – 220 | Rating  - 1390  | Top 86.78  % in the World .  \\n           Hackerrank - 4 Star badge  in Python  | 1 Python  Certificate .'),\n",
       " Document(metadata={'source': 'my resume final.pdf', 'page': 0}, page_content='ACHIEVEMENTS  \\n \\n            Leetcode : Problems  solved  – 220 | Rating  - 1390  | Top 86.78  % in the World .  \\n           Hackerrank - 4 Star badge  in Python  | 1 Python  Certificate . \\n           DSCE  Aventus  2.0- Participated  in National  Level  Hackathon .                                                                                                     2024                                                                                                                      \\n           PSG  iTech  Hack  Fest- Participated  in National  Level  Hackatho n.                                                                                   2023 \\n           First  Year  Project  Expo - Secured  2nd Position .                                                                                                                2023                                                                                         \\n SKILLS'),\n",
       " Document(metadata={'source': 'my resume final.pdf', 'page': 0}, page_content='SKILLS  \\n \\n           Programming  Language           Basic  C C++ Java R | Python . \\n           Web  Technologies                       HTML |  CSS |  Basic JavaScript  | Django | Streamlit . \\n           VCS  Manager                            Git | GitHub  | Anaconda  | PyCharm  | Dataspell | VS Code . \\n           Frameworks                              Tensorflow | Keras | Langchain | Basic of ROS.  \\n           Core                                              Data  Analysis  | Machine  Learning | Deep Learning .  \\n2022-2026  \\n2020-2022  \\n2019-2020   LINKEDIN')]"
      ]
     },
     "execution_count": 22,
     "metadata": {},
     "output_type": "execute_result"
    }
   ],
   "source": [
    "from langchain.text_splitter import RecursiveCharacterTextSplitter\n",
    "text_spliter=RecursiveCharacterTextSplitter(chunk_size=1000,chunk_overlap=200)\n",
    "document=text_spliter.split_documents(docs)\n",
    "document"
   ]
  },
  {
   "cell_type": "code",
   "execution_count": 23,
   "metadata": {},
   "outputs": [],
   "source": [
    "## Vector embedding and vector store\n",
    "\n",
    "from langchain_google_genai import GoogleGenerativeAIEmbeddings\n",
    "from langchain_community.vectorstores import Chroma\n",
    "embeddings = GoogleGenerativeAIEmbeddings(model = \"models/embedding-001\")\n",
    "db1=Chroma.from_documents(document[:20],embedding=embeddings)\n",
    "# db.save_local('')"
   ]
  },
  {
   "cell_type": "code",
   "execution_count": 24,
   "metadata": {},
   "outputs": [
    {
     "data": {
      "text/plain": [
       "'SKILLS  \\n \\n           Programming  Language           Basic  C C++ Java R | Python . \\n           Web  Technologies                       HTML |  CSS |  Basic JavaScript  | Django | Streamlit . \\n           VCS  Manager                            Git | GitHub  | Anaconda  | PyCharm  | Dataspell | VS Code . \\n           Frameworks                              Tensorflow | Keras | Langchain | Basic of ROS.  \\n           Core                                              Data  Analysis  | Machine  Learning | Deep Learning .  \\n2022-2026  \\n2020-2022  \\n2019-2020   LINKEDIN'"
      ]
     },
     "execution_count": 24,
     "metadata": {},
     "output_type": "execute_result"
    }
   ],
   "source": [
    "query=\"what are the skills mensioned there\"\n",
    "result=db1.similarity_search(query=query)\n",
    "result[0].page_content"
   ]
  },
  {
   "cell_type": "markdown",
   "metadata": {},
   "source": [
    "FAISS Vector Database"
   ]
  },
  {
   "cell_type": "code",
   "execution_count": 25,
   "metadata": {},
   "outputs": [],
   "source": [
    "from langchain_google_genai import GoogleGenerativeAIEmbeddings\n",
    "from langchain_community.vectorstores import FAISS\n",
    "embeddings = GoogleGenerativeAIEmbeddings(model = \"models/embedding-001\")\n",
    "db2=FAISS.from_documents(document[:20],embedding=embeddings)"
   ]
  },
  {
   "cell_type": "code",
   "execution_count": 26,
   "metadata": {},
   "outputs": [
    {
     "data": {
      "text/plain": [
       "'SKILLS  \\n \\n           Programming  Language           Basic  C C++ Java R | Python . \\n           Web  Technologies                       HTML |  CSS |  Basic JavaScript  | Django | Streamlit . \\n           VCS  Manager                            Git | GitHub  | Anaconda  | PyCharm  | Dataspell | VS Code . \\n           Frameworks                              Tensorflow | Keras | Langchain | Basic of ROS.  \\n           Core                                              Data  Analysis  | Machine  Learning | Deep Learning .  \\n2022-2026  \\n2020-2022  \\n2019-2020   LINKEDIN'"
      ]
     },
     "execution_count": 26,
     "metadata": {},
     "output_type": "execute_result"
    }
   ],
   "source": [
    "query=\"what are the skills mensioned there\"\n",
    "result=db2.similarity_search(query=query)\n",
    "result[0].page_content"
   ]
  },
  {
   "cell_type": "markdown",
   "metadata": {},
   "source": [
    "# Using open source llm"
   ]
  },
  {
   "cell_type": "code",
   "execution_count": 27,
   "metadata": {},
   "outputs": [
    {
     "data": {
      "text/plain": [
       "Ollama(model='llama3.2:latest')"
      ]
     },
     "execution_count": 27,
     "metadata": {},
     "output_type": "execute_result"
    }
   ],
   "source": [
    "from langchain_community.llms import Ollama\n",
    "llm=Ollama(model=\"llama3.2:latest\")\n",
    "llm"
   ]
  },
  {
   "cell_type": "code",
   "execution_count": 28,
   "metadata": {},
   "outputs": [],
   "source": [
    "from langchain_core.prompts import ChatPromptTemplate\n",
    "prompt= ChatPromptTemplate.from_template(\"\"\"\"\n",
    "                                         Answer the following question based only on the provided context.\n",
    "                                         think step by step before providing a detailed answer.\n",
    "                                         I will tip you $100 if the user finds the answer helpful.\n",
    "                                         <context>\n",
    "                                         {context}\n",
    "                                         </content>\n",
    "                                         Question: {input}\"\"\")"
   ]
  },
  {
   "cell_type": "markdown",
   "metadata": {},
   "source": [
    "# Chains creation"
   ]
  },
  {
   "cell_type": "code",
   "execution_count": 29,
   "metadata": {},
   "outputs": [],
   "source": [
    "## chain Introduction\n",
    "# Create Stuff document chain\n",
    "\n",
    "from langchain.chains.combine_documents import create_stuff_documents_chain\n",
    "document_chain = create_stuff_documents_chain(llm,prompt)"
   ]
  },
  {
   "cell_type": "code",
   "execution_count": 30,
   "metadata": {},
   "outputs": [
    {
     "data": {
      "text/plain": [
       "VectorStoreRetriever(tags=['Chroma', 'GoogleGenerativeAIEmbeddings'], vectorstore=<langchain_community.vectorstores.chroma.Chroma object at 0x00000140A00F34C0>, search_kwargs={})"
      ]
     },
     "execution_count": 30,
     "metadata": {},
     "output_type": "execute_result"
    }
   ],
   "source": [
    "retriever=db1.as_retriever()\n",
    "retriever"
   ]
  },
  {
   "cell_type": "code",
   "execution_count": 31,
   "metadata": {},
   "outputs": [],
   "source": [
    "from langchain.chains import create_retrieval_chain\n",
    "retrieval_chain = create_retrieval_chain(retriever,document_chain)\n"
   ]
  },
  {
   "cell_type": "code",
   "execution_count": 35,
   "metadata": {},
   "outputs": [],
   "source": [
    "response=retrieval_chain.invoke({'input':'skills'})"
   ]
  },
  {
   "cell_type": "code",
   "execution_count": 36,
   "metadata": {},
   "outputs": [
    {
     "data": {
      "text/plain": [
       "'Based on the provided context, it appears that the user has listed their skills in various categories. The question \"skills\" seems to be asking for a repetition of what is already shown in the \"SKILLS\" section.\\n\\nThe answer would be:\\n\\nProgramming Language: Basic C C++ Java R | Python\\nWeb Technologies: HTML | CSS | Basic JavaScript | Django | Streamlit\\nVCS Manager: Git | GitHub | Anaconda | PyCharm | Dataspell | VS Code\\nFrameworks: Tensorflow | Keras | Langchain | Basic of ROS\\nCore: Data Analysis | Machine Learning | Deep Learning'"
      ]
     },
     "execution_count": 36,
     "metadata": {},
     "output_type": "execute_result"
    }
   ],
   "source": [
    "response['answer']"
   ]
  },
  {
   "cell_type": "code",
   "execution_count": null,
   "metadata": {},
   "outputs": [],
   "source": []
  }
 ],
 "metadata": {
  "kernelspec": {
   "display_name": "Python 3",
   "language": "python",
   "name": "python3"
  },
  "language_info": {
   "codemirror_mode": {
    "name": "ipython",
    "version": 3
   },
   "file_extension": ".py",
   "mimetype": "text/x-python",
   "name": "python",
   "nbconvert_exporter": "python",
   "pygments_lexer": "ipython3",
   "version": "3.10.14"
  }
 },
 "nbformat": 4,
 "nbformat_minor": 2
}
